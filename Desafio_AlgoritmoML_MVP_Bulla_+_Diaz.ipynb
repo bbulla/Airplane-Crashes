{
  "nbformat": 4,
  "nbformat_minor": 0,
  "metadata": {
    "colab": {
      "provenance": [],
      "include_colab_link": true
    },
    "kernelspec": {
      "name": "python3",
      "display_name": "Python 3"
    },
    "language_info": {
      "name": "python"
    }
  },
  "cells": [
    {
      "cell_type": "markdown",
      "metadata": {
        "id": "view-in-github",
        "colab_type": "text"
      },
      "source": [
        "<a href=\"https://colab.research.google.com/github/bbulla/Airplane-Crashes/blob/main/Desafio_AlgoritmoML_MVP_Bulla_%2B_Diaz.ipynb\" target=\"_parent\"><img src=\"https://colab.research.google.com/assets/colab-badge.svg\" alt=\"Open In Colab\"/></a>"
      ]
    },
    {
      "cell_type": "markdown",
      "source": [
        "#Importo datos"
      ],
      "metadata": {
        "id": "8uqFDYUdQyZY"
      }
    },
    {
      "cell_type": "code",
      "execution_count": null,
      "metadata": {
        "id": "zQpPxkaKQMIE"
      },
      "outputs": [],
      "source": [
        "import pandas as pd\n",
        "import matplotlib.pyplot as plt\n",
        "import seaborn as sns\n",
        "import numpy as np\n",
        "import matplotlib as mpl\n",
        "import sqlite3\n",
        "import re\n",
        "%matplotlib inline\n",
        "from datetime import datetime, timedelta\n",
        "train=pd.read_csv('Airplane_Crashes_and_Fatalities_Since_1908_20190820105639.csv')\n",
        "test=pd.read_csv('Airplane_Crashes_and_Fatalities_Since_1908_20190820105639.csv')\n",
        "#test\n"
      ]
    },
    {
      "cell_type": "code",
      "source": [
        "df= pd.read_csv('Airplane_Crashes_and_Fatalities_Since_1908_20190820105639.csv',sep=',', parse_dates=['Date'])\n",
        "df.head()"
      ],
      "metadata": {
        "colab": {
          "base_uri": "https://localhost:8080/"
        },
        "id": "bkTdbZYyT0N3",
        "outputId": "dfd484f8-4d2a-4094-de6d-56045dc2cdd6"
      },
      "execution_count": null,
      "outputs": [
        {
          "output_type": "execute_result",
          "data": {
            "text/plain": [
              "        Date   Time                            Location  \\\n",
              "0 1908-09-17  17:18                 Fort Myer, Virginia   \n",
              "1 1909-09-07    NaN             Juvisy-sur-Orge, France   \n",
              "2 1912-07-12  06:30           Atlantic City, New Jersey   \n",
              "3 1913-08-06    NaN  Victoria, British Columbia, Canada   \n",
              "4 1913-09-09  18:30                  Over the North Sea   \n",
              "\n",
              "                 Operator Flight #          Route                 AC Type  \\\n",
              "0    Military - U.S. Army      NaN  Demonstration        Wright Flyer III   \n",
              "1                     NaN      NaN       Air show          Wright Byplane   \n",
              "2    Military - U.S. Navy      NaN    Test flight               Dirigible   \n",
              "3                 Private      NaN            NaN        Curtiss seaplane   \n",
              "4  Military - German Navy      NaN            NaN  Zeppelin L-1 (airship)   \n",
              "\n",
              "  Registration cn/ln  Aboard  Aboard Passangers  Aboard Crew  Fatalities  \\\n",
              "0          NaN     1     2.0                1.0          1.0         1.0   \n",
              "1          SC1   NaN     1.0                0.0          1.0         1.0   \n",
              "2          NaN   NaN     5.0                0.0          5.0         5.0   \n",
              "3          NaN   NaN     1.0                0.0          1.0         1.0   \n",
              "4          NaN   NaN    20.0                NaN          NaN        14.0   \n",
              "\n",
              "   Fatalities Passangers  Fatalities Crew  Ground  \\\n",
              "0                    1.0              0.0     0.0   \n",
              "1                    0.0              0.0     0.0   \n",
              "2                    0.0              5.0     0.0   \n",
              "3                    0.0              1.0     0.0   \n",
              "4                    NaN              NaN     0.0   \n",
              "\n",
              "                                             Summary  \n",
              "0  During a demonstration flight, a U.S. Army fly...  \n",
              "1  Eugene Lefebvre was the first pilot to ever be...  \n",
              "2  First U.S. dirigible Akron exploded just offsh...  \n",
              "3  The first fatal airplane accident in Canada oc...  \n",
              "4  The airship flew into a thunderstorm and encou...  "
            ],
            "text/html": [
              "\n",
              "  <div id=\"df-73e14f54-e9b2-4a75-931c-f7a489ee44f2\">\n",
              "    <div class=\"colab-df-container\">\n",
              "      <div>\n",
              "<style scoped>\n",
              "    .dataframe tbody tr th:only-of-type {\n",
              "        vertical-align: middle;\n",
              "    }\n",
              "\n",
              "    .dataframe tbody tr th {\n",
              "        vertical-align: top;\n",
              "    }\n",
              "\n",
              "    .dataframe thead th {\n",
              "        text-align: right;\n",
              "    }\n",
              "</style>\n",
              "<table border=\"1\" class=\"dataframe\">\n",
              "  <thead>\n",
              "    <tr style=\"text-align: right;\">\n",
              "      <th></th>\n",
              "      <th>Date</th>\n",
              "      <th>Time</th>\n",
              "      <th>Location</th>\n",
              "      <th>Operator</th>\n",
              "      <th>Flight #</th>\n",
              "      <th>Route</th>\n",
              "      <th>AC Type</th>\n",
              "      <th>Registration</th>\n",
              "      <th>cn/ln</th>\n",
              "      <th>Aboard</th>\n",
              "      <th>Aboard Passangers</th>\n",
              "      <th>Aboard Crew</th>\n",
              "      <th>Fatalities</th>\n",
              "      <th>Fatalities Passangers</th>\n",
              "      <th>Fatalities Crew</th>\n",
              "      <th>Ground</th>\n",
              "      <th>Summary</th>\n",
              "    </tr>\n",
              "  </thead>\n",
              "  <tbody>\n",
              "    <tr>\n",
              "      <th>0</th>\n",
              "      <td>1908-09-17</td>\n",
              "      <td>17:18</td>\n",
              "      <td>Fort Myer, Virginia</td>\n",
              "      <td>Military - U.S. Army</td>\n",
              "      <td>NaN</td>\n",
              "      <td>Demonstration</td>\n",
              "      <td>Wright Flyer III</td>\n",
              "      <td>NaN</td>\n",
              "      <td>1</td>\n",
              "      <td>2.0</td>\n",
              "      <td>1.0</td>\n",
              "      <td>1.0</td>\n",
              "      <td>1.0</td>\n",
              "      <td>1.0</td>\n",
              "      <td>0.0</td>\n",
              "      <td>0.0</td>\n",
              "      <td>During a demonstration flight, a U.S. Army fly...</td>\n",
              "    </tr>\n",
              "    <tr>\n",
              "      <th>1</th>\n",
              "      <td>1909-09-07</td>\n",
              "      <td>NaN</td>\n",
              "      <td>Juvisy-sur-Orge, France</td>\n",
              "      <td>NaN</td>\n",
              "      <td>NaN</td>\n",
              "      <td>Air show</td>\n",
              "      <td>Wright Byplane</td>\n",
              "      <td>SC1</td>\n",
              "      <td>NaN</td>\n",
              "      <td>1.0</td>\n",
              "      <td>0.0</td>\n",
              "      <td>1.0</td>\n",
              "      <td>1.0</td>\n",
              "      <td>0.0</td>\n",
              "      <td>0.0</td>\n",
              "      <td>0.0</td>\n",
              "      <td>Eugene Lefebvre was the first pilot to ever be...</td>\n",
              "    </tr>\n",
              "    <tr>\n",
              "      <th>2</th>\n",
              "      <td>1912-07-12</td>\n",
              "      <td>06:30</td>\n",
              "      <td>Atlantic City, New Jersey</td>\n",
              "      <td>Military - U.S. Navy</td>\n",
              "      <td>NaN</td>\n",
              "      <td>Test flight</td>\n",
              "      <td>Dirigible</td>\n",
              "      <td>NaN</td>\n",
              "      <td>NaN</td>\n",
              "      <td>5.0</td>\n",
              "      <td>0.0</td>\n",
              "      <td>5.0</td>\n",
              "      <td>5.0</td>\n",
              "      <td>0.0</td>\n",
              "      <td>5.0</td>\n",
              "      <td>0.0</td>\n",
              "      <td>First U.S. dirigible Akron exploded just offsh...</td>\n",
              "    </tr>\n",
              "    <tr>\n",
              "      <th>3</th>\n",
              "      <td>1913-08-06</td>\n",
              "      <td>NaN</td>\n",
              "      <td>Victoria, British Columbia, Canada</td>\n",
              "      <td>Private</td>\n",
              "      <td>NaN</td>\n",
              "      <td>NaN</td>\n",
              "      <td>Curtiss seaplane</td>\n",
              "      <td>NaN</td>\n",
              "      <td>NaN</td>\n",
              "      <td>1.0</td>\n",
              "      <td>0.0</td>\n",
              "      <td>1.0</td>\n",
              "      <td>1.0</td>\n",
              "      <td>0.0</td>\n",
              "      <td>1.0</td>\n",
              "      <td>0.0</td>\n",
              "      <td>The first fatal airplane accident in Canada oc...</td>\n",
              "    </tr>\n",
              "    <tr>\n",
              "      <th>4</th>\n",
              "      <td>1913-09-09</td>\n",
              "      <td>18:30</td>\n",
              "      <td>Over the North Sea</td>\n",
              "      <td>Military - German Navy</td>\n",
              "      <td>NaN</td>\n",
              "      <td>NaN</td>\n",
              "      <td>Zeppelin L-1 (airship)</td>\n",
              "      <td>NaN</td>\n",
              "      <td>NaN</td>\n",
              "      <td>20.0</td>\n",
              "      <td>NaN</td>\n",
              "      <td>NaN</td>\n",
              "      <td>14.0</td>\n",
              "      <td>NaN</td>\n",
              "      <td>NaN</td>\n",
              "      <td>0.0</td>\n",
              "      <td>The airship flew into a thunderstorm and encou...</td>\n",
              "    </tr>\n",
              "  </tbody>\n",
              "</table>\n",
              "</div>\n",
              "      <button class=\"colab-df-convert\" onclick=\"convertToInteractive('df-73e14f54-e9b2-4a75-931c-f7a489ee44f2')\"\n",
              "              title=\"Convert this dataframe to an interactive table.\"\n",
              "              style=\"display:none;\">\n",
              "        \n",
              "  <svg xmlns=\"http://www.w3.org/2000/svg\" height=\"24px\"viewBox=\"0 0 24 24\"\n",
              "       width=\"24px\">\n",
              "    <path d=\"M0 0h24v24H0V0z\" fill=\"none\"/>\n",
              "    <path d=\"M18.56 5.44l.94 2.06.94-2.06 2.06-.94-2.06-.94-.94-2.06-.94 2.06-2.06.94zm-11 1L8.5 8.5l.94-2.06 2.06-.94-2.06-.94L8.5 2.5l-.94 2.06-2.06.94zm10 10l.94 2.06.94-2.06 2.06-.94-2.06-.94-.94-2.06-.94 2.06-2.06.94z\"/><path d=\"M17.41 7.96l-1.37-1.37c-.4-.4-.92-.59-1.43-.59-.52 0-1.04.2-1.43.59L10.3 9.45l-7.72 7.72c-.78.78-.78 2.05 0 2.83L4 21.41c.39.39.9.59 1.41.59.51 0 1.02-.2 1.41-.59l7.78-7.78 2.81-2.81c.8-.78.8-2.07 0-2.86zM5.41 20L4 18.59l7.72-7.72 1.47 1.35L5.41 20z\"/>\n",
              "  </svg>\n",
              "      </button>\n",
              "      \n",
              "  <style>\n",
              "    .colab-df-container {\n",
              "      display:flex;\n",
              "      flex-wrap:wrap;\n",
              "      gap: 12px;\n",
              "    }\n",
              "\n",
              "    .colab-df-convert {\n",
              "      background-color: #E8F0FE;\n",
              "      border: none;\n",
              "      border-radius: 50%;\n",
              "      cursor: pointer;\n",
              "      display: none;\n",
              "      fill: #1967D2;\n",
              "      height: 32px;\n",
              "      padding: 0 0 0 0;\n",
              "      width: 32px;\n",
              "    }\n",
              "\n",
              "    .colab-df-convert:hover {\n",
              "      background-color: #E2EBFA;\n",
              "      box-shadow: 0px 1px 2px rgba(60, 64, 67, 0.3), 0px 1px 3px 1px rgba(60, 64, 67, 0.15);\n",
              "      fill: #174EA6;\n",
              "    }\n",
              "\n",
              "    [theme=dark] .colab-df-convert {\n",
              "      background-color: #3B4455;\n",
              "      fill: #D2E3FC;\n",
              "    }\n",
              "\n",
              "    [theme=dark] .colab-df-convert:hover {\n",
              "      background-color: #434B5C;\n",
              "      box-shadow: 0px 1px 3px 1px rgba(0, 0, 0, 0.15);\n",
              "      filter: drop-shadow(0px 1px 2px rgba(0, 0, 0, 0.3));\n",
              "      fill: #FFFFFF;\n",
              "    }\n",
              "  </style>\n",
              "\n",
              "      <script>\n",
              "        const buttonEl =\n",
              "          document.querySelector('#df-73e14f54-e9b2-4a75-931c-f7a489ee44f2 button.colab-df-convert');\n",
              "        buttonEl.style.display =\n",
              "          google.colab.kernel.accessAllowed ? 'block' : 'none';\n",
              "\n",
              "        async function convertToInteractive(key) {\n",
              "          const element = document.querySelector('#df-73e14f54-e9b2-4a75-931c-f7a489ee44f2');\n",
              "          const dataTable =\n",
              "            await google.colab.kernel.invokeFunction('convertToInteractive',\n",
              "                                                     [key], {});\n",
              "          if (!dataTable) return;\n",
              "\n",
              "          const docLinkHtml = 'Like what you see? Visit the ' +\n",
              "            '<a target=\"_blank\" href=https://colab.research.google.com/notebooks/data_table.ipynb>data table notebook</a>'\n",
              "            + ' to learn more about interactive tables.';\n",
              "          element.innerHTML = '';\n",
              "          dataTable['output_type'] = 'display_data';\n",
              "          await google.colab.output.renderOutput(dataTable, element);\n",
              "          const docLink = document.createElement('div');\n",
              "          docLink.innerHTML = docLinkHtml;\n",
              "          element.appendChild(docLink);\n",
              "        }\n",
              "      </script>\n",
              "    </div>\n",
              "  </div>\n",
              "  "
            ]
          },
          "metadata": {},
          "execution_count": 2
        }
      ]
    },
    {
      "cell_type": "code",
      "source": [
        "df = df.rename(columns = {\"AC Type\":\"AC_Type\"})"
      ],
      "metadata": {
        "id": "Rw0QK6HergiY"
      },
      "execution_count": null,
      "outputs": []
    },
    {
      "cell_type": "code",
      "source": [
        "# Creamos las categorias\n",
        "Fatalities=['0','Otro']\n",
        "AC_Type=['Grummand EA-6B','Lockheed L-1011','Mc Donnell Douglas MD-81','Boeing B-747-168B / Ilyushin IL-76TD','Lockheed 1011-200 TriStar','Boeing 777-2H6ER']"
      ],
      "metadata": {
        "id": "3ysSURB2qANM"
      },
      "execution_count": null,
      "outputs": []
    },
    {
      "cell_type": "markdown",
      "source": [
        "#Encoding "
      ],
      "metadata": {
        "id": "qfhqFjWmQ1mj"
      }
    },
    {
      "cell_type": "code",
      "source": [
        "y = pd.get_dummies(df.Fatalities, prefix= 'AC_Type')\n",
        "print(y.head())"
      ],
      "metadata": {
        "colab": {
          "base_uri": "https://localhost:8080/"
        },
        "id": "6mfNAFvCRAzl",
        "outputId": "2ee23ca6-49f1-4a91-b181-e98b9bd46acd"
      },
      "execution_count": null,
      "outputs": [
        {
          "output_type": "stream",
          "name": "stdout",
          "text": [
            "   AC_Type_0.0  AC_Type_1.0  AC_Type_2.0  AC_Type_3.0  AC_Type_4.0  \\\n",
            "0            0            1            0            0            0   \n",
            "1            0            1            0            0            0   \n",
            "2            0            0            0            0            0   \n",
            "3            0            1            0            0            0   \n",
            "4            0            0            0            0            0   \n",
            "\n",
            "   AC_Type_5.0  AC_Type_6.0  AC_Type_7.0  AC_Type_8.0  AC_Type_9.0  ...  \\\n",
            "0            0            0            0            0            0  ...   \n",
            "1            0            0            0            0            0  ...   \n",
            "2            1            0            0            0            0  ...   \n",
            "3            0            0            0            0            0  ...   \n",
            "4            0            0            0            0            0  ...   \n",
            "\n",
            "   AC_Type_271.0  AC_Type_275.0  AC_Type_290.0  AC_Type_298.0  AC_Type_301.0  \\\n",
            "0              0              0              0              0              0   \n",
            "1              0              0              0              0              0   \n",
            "2              0              0              0              0              0   \n",
            "3              0              0              0              0              0   \n",
            "4              0              0              0              0              0   \n",
            "\n",
            "   AC_Type_329.0  AC_Type_346.0  AC_Type_349.0  AC_Type_520.0  AC_Type_583.0  \n",
            "0              0              0              0              0              0  \n",
            "1              0              0              0              0              0  \n",
            "2              0              0              0              0              0  \n",
            "3              0              0              0              0              0  \n",
            "4              0              0              0              0              0  \n",
            "\n",
            "[5 rows x 199 columns]\n"
          ]
        }
      ]
    },
    {
      "cell_type": "code",
      "source": [
        "# Creacion de datos artificiales\n",
        "v_AC_Type=np.random.choice(AC_Type, 1000)\n",
        "v_Fatalities=np.random.choice(Fatalities, 1000)"
      ],
      "metadata": {
        "id": "sfSVLoChtDVC"
      },
      "execution_count": null,
      "outputs": []
    },
    {
      "cell_type": "code",
      "source": [
        "# Creacion del dataframe\n",
        "df=pd.DataFrame()\n",
        "df['AC_Type']=v_AC_Type \n",
        "df['Fatalities']=v_Fatalities\n",
        "df.head()"
      ],
      "metadata": {
        "colab": {
          "base_uri": "https://localhost:8080/",
          "height": 206
        },
        "id": "dR6rzjfTr43j",
        "outputId": "0029b258-9299-486b-89cd-0215f1f84f1f"
      },
      "execution_count": null,
      "outputs": [
        {
          "output_type": "execute_result",
          "data": {
            "text/plain": [
              "                                AC_Type Fatalities\n",
              "0                      Boeing 777-2H6ER       Otro\n",
              "1             Lockheed 1011-200 TriStar       Otro\n",
              "2              Mc Donnell Douglas MD-81       Otro\n",
              "3  Boeing B-747-168B / Ilyushin IL-76TD          0\n",
              "4                      Boeing 777-2H6ER       Otro"
            ],
            "text/html": [
              "\n",
              "  <div id=\"df-ea581e53-7bee-470b-afd6-f67de0e27b69\">\n",
              "    <div class=\"colab-df-container\">\n",
              "      <div>\n",
              "<style scoped>\n",
              "    .dataframe tbody tr th:only-of-type {\n",
              "        vertical-align: middle;\n",
              "    }\n",
              "\n",
              "    .dataframe tbody tr th {\n",
              "        vertical-align: top;\n",
              "    }\n",
              "\n",
              "    .dataframe thead th {\n",
              "        text-align: right;\n",
              "    }\n",
              "</style>\n",
              "<table border=\"1\" class=\"dataframe\">\n",
              "  <thead>\n",
              "    <tr style=\"text-align: right;\">\n",
              "      <th></th>\n",
              "      <th>AC_Type</th>\n",
              "      <th>Fatalities</th>\n",
              "    </tr>\n",
              "  </thead>\n",
              "  <tbody>\n",
              "    <tr>\n",
              "      <th>0</th>\n",
              "      <td>Boeing 777-2H6ER</td>\n",
              "      <td>Otro</td>\n",
              "    </tr>\n",
              "    <tr>\n",
              "      <th>1</th>\n",
              "      <td>Lockheed 1011-200 TriStar</td>\n",
              "      <td>Otro</td>\n",
              "    </tr>\n",
              "    <tr>\n",
              "      <th>2</th>\n",
              "      <td>Mc Donnell Douglas MD-81</td>\n",
              "      <td>Otro</td>\n",
              "    </tr>\n",
              "    <tr>\n",
              "      <th>3</th>\n",
              "      <td>Boeing B-747-168B / Ilyushin IL-76TD</td>\n",
              "      <td>0</td>\n",
              "    </tr>\n",
              "    <tr>\n",
              "      <th>4</th>\n",
              "      <td>Boeing 777-2H6ER</td>\n",
              "      <td>Otro</td>\n",
              "    </tr>\n",
              "  </tbody>\n",
              "</table>\n",
              "</div>\n",
              "      <button class=\"colab-df-convert\" onclick=\"convertToInteractive('df-ea581e53-7bee-470b-afd6-f67de0e27b69')\"\n",
              "              title=\"Convert this dataframe to an interactive table.\"\n",
              "              style=\"display:none;\">\n",
              "        \n",
              "  <svg xmlns=\"http://www.w3.org/2000/svg\" height=\"24px\"viewBox=\"0 0 24 24\"\n",
              "       width=\"24px\">\n",
              "    <path d=\"M0 0h24v24H0V0z\" fill=\"none\"/>\n",
              "    <path d=\"M18.56 5.44l.94 2.06.94-2.06 2.06-.94-2.06-.94-.94-2.06-.94 2.06-2.06.94zm-11 1L8.5 8.5l.94-2.06 2.06-.94-2.06-.94L8.5 2.5l-.94 2.06-2.06.94zm10 10l.94 2.06.94-2.06 2.06-.94-2.06-.94-.94-2.06-.94 2.06-2.06.94z\"/><path d=\"M17.41 7.96l-1.37-1.37c-.4-.4-.92-.59-1.43-.59-.52 0-1.04.2-1.43.59L10.3 9.45l-7.72 7.72c-.78.78-.78 2.05 0 2.83L4 21.41c.39.39.9.59 1.41.59.51 0 1.02-.2 1.41-.59l7.78-7.78 2.81-2.81c.8-.78.8-2.07 0-2.86zM5.41 20L4 18.59l7.72-7.72 1.47 1.35L5.41 20z\"/>\n",
              "  </svg>\n",
              "      </button>\n",
              "      \n",
              "  <style>\n",
              "    .colab-df-container {\n",
              "      display:flex;\n",
              "      flex-wrap:wrap;\n",
              "      gap: 12px;\n",
              "    }\n",
              "\n",
              "    .colab-df-convert {\n",
              "      background-color: #E8F0FE;\n",
              "      border: none;\n",
              "      border-radius: 50%;\n",
              "      cursor: pointer;\n",
              "      display: none;\n",
              "      fill: #1967D2;\n",
              "      height: 32px;\n",
              "      padding: 0 0 0 0;\n",
              "      width: 32px;\n",
              "    }\n",
              "\n",
              "    .colab-df-convert:hover {\n",
              "      background-color: #E2EBFA;\n",
              "      box-shadow: 0px 1px 2px rgba(60, 64, 67, 0.3), 0px 1px 3px 1px rgba(60, 64, 67, 0.15);\n",
              "      fill: #174EA6;\n",
              "    }\n",
              "\n",
              "    [theme=dark] .colab-df-convert {\n",
              "      background-color: #3B4455;\n",
              "      fill: #D2E3FC;\n",
              "    }\n",
              "\n",
              "    [theme=dark] .colab-df-convert:hover {\n",
              "      background-color: #434B5C;\n",
              "      box-shadow: 0px 1px 3px 1px rgba(0, 0, 0, 0.15);\n",
              "      filter: drop-shadow(0px 1px 2px rgba(0, 0, 0, 0.3));\n",
              "      fill: #FFFFFF;\n",
              "    }\n",
              "  </style>\n",
              "\n",
              "      <script>\n",
              "        const buttonEl =\n",
              "          document.querySelector('#df-ea581e53-7bee-470b-afd6-f67de0e27b69 button.colab-df-convert');\n",
              "        buttonEl.style.display =\n",
              "          google.colab.kernel.accessAllowed ? 'block' : 'none';\n",
              "\n",
              "        async function convertToInteractive(key) {\n",
              "          const element = document.querySelector('#df-ea581e53-7bee-470b-afd6-f67de0e27b69');\n",
              "          const dataTable =\n",
              "            await google.colab.kernel.invokeFunction('convertToInteractive',\n",
              "                                                     [key], {});\n",
              "          if (!dataTable) return;\n",
              "\n",
              "          const docLinkHtml = 'Like what you see? Visit the ' +\n",
              "            '<a target=\"_blank\" href=https://colab.research.google.com/notebooks/data_table.ipynb>data table notebook</a>'\n",
              "            + ' to learn more about interactive tables.';\n",
              "          element.innerHTML = '';\n",
              "          dataTable['output_type'] = 'display_data';\n",
              "          await google.colab.output.renderOutput(dataTable, element);\n",
              "          const docLink = document.createElement('div');\n",
              "          docLink.innerHTML = docLinkHtml;\n",
              "          element.appendChild(docLink);\n",
              "        }\n",
              "      </script>\n",
              "    </div>\n",
              "  </div>\n",
              "  "
            ]
          },
          "metadata": {},
          "execution_count": 7
        }
      ]
    },
    {
      "cell_type": "code",
      "source": [
        "df.Fatalities.value_counts()"
      ],
      "metadata": {
        "colab": {
          "base_uri": "https://localhost:8080/"
        },
        "id": "lifTNJiBtv5W",
        "outputId": "3fdf5259-8083-4ed1-a485-d2cc9875bbd9"
      },
      "execution_count": null,
      "outputs": [
        {
          "output_type": "execute_result",
          "data": {
            "text/plain": [
              "0       518\n",
              "Otro    482\n",
              "Name: Fatalities, dtype: int64"
            ]
          },
          "metadata": {},
          "execution_count": 8
        }
      ]
    },
    {
      "cell_type": "code",
      "source": [
        "# Split en train y test \n",
        "X= df.drop(columns='Fatalities')\n",
        "y= df['Fatalities']\n",
        "#from sklearn.preprocessing import OneHotEncoder\n",
        "X_new=pd.get_dummies(X)\n",
        "from sklearn.model_selection import train_test_split\n",
        "X_train, X_test, y_train, y_test = train_test_split(X_new, y, test_size=0.33, random_state=42)"
      ],
      "metadata": {
        "id": "a6pcMZC4uKiT"
      },
      "execution_count": null,
      "outputs": []
    },
    {
      "cell_type": "code",
      "source": [
        "# Entrenar el arbol\n",
        "from sklearn import tree\n",
        "clf = tree.DecisionTreeClassifier()\n",
        "clf = clf.fit(X_train, y_train)"
      ],
      "metadata": {
        "id": "tNY-y5YWuZzq"
      },
      "execution_count": null,
      "outputs": []
    },
    {
      "cell_type": "code",
      "source": [
        "y_train.unique()"
      ],
      "metadata": {
        "colab": {
          "base_uri": "https://localhost:8080/"
        },
        "id": "Ba6_hnmAucbr",
        "outputId": "aa2414fa-800a-4465-e8b9-8ad09bd06cb3"
      },
      "execution_count": null,
      "outputs": [
        {
          "output_type": "execute_result",
          "data": {
            "text/plain": [
              "array(['0', 'Otro'], dtype=object)"
            ]
          },
          "metadata": {},
          "execution_count": 11
        }
      ]
    },
    {
      "cell_type": "code",
      "source": [
        "# Graficando\n",
        "from matplotlib import pyplot as plt\n",
        "fig = plt.figure(figsize=(18,10))\n",
        "_ = tree.plot_tree(clf,feature_names=X_train.columns,  \n",
        "                   class_names=y_train.unique(),\n",
        "                   filled=True)"
      ],
      "metadata": {
        "colab": {
          "base_uri": "https://localhost:8080/",
          "height": 575
        },
        "id": "8TLNFqXwufpy",
        "outputId": "31184a84-3ad8-4d57-9b5c-dcfbb7a0ac47"
      },
      "execution_count": null,
      "outputs": [
        {
          "output_type": "display_data",
          "data": {
            "text/plain": [
              "<Figure size 1296x720 with 1 Axes>"
            ],
            "image/png": "[encoded data removed]"
          },
          "metadata": {
            "needs_background": "light"
          }
        }
      ]
    },
    {
      "cell_type": "code",
      "source": [
        "y_pred= clf.predict(X_test)"
      ],
      "metadata": {
        "id": "LQytv31dup7b"
      },
      "execution_count": null,
      "outputs": []
    },
    {
      "cell_type": "code",
      "source": [
        "from sklearn.metrics import classification_report\n",
        "print(classification_report(y_true=y_test,y_pred=y_pred))"
      ],
      "metadata": {
        "colab": {
          "base_uri": "https://localhost:8080/"
        },
        "id": "kWQV-S-3utny",
        "outputId": "8528b5c3-2bc6-4165-83d7-89a3c6441ca2"
      },
      "execution_count": null,
      "outputs": [
        {
          "output_type": "stream",
          "name": "stdout",
          "text": [
            "              precision    recall  f1-score   support\n",
            "\n",
            "           0       0.56      0.72      0.63       179\n",
            "        Otro       0.49      0.32      0.39       151\n",
            "\n",
            "    accuracy                           0.54       330\n",
            "   macro avg       0.53      0.52      0.51       330\n",
            "weighted avg       0.53      0.54      0.52       330\n",
            "\n"
          ]
        }
      ]
    },
    {
      "cell_type": "markdown",
      "source": [
        "#Feature Engineering "
      ],
      "metadata": {
        "id": "jqzCRzcXREGG"
      }
    },
    {
      "cell_type": "code",
      "source": [
        "full= pd.concat([train,test], axis=0)\n",
        "full.head()"
      ],
      "metadata": {
        "colab": {
          "base_uri": "https://localhost:8080/",
          "height": 476
        },
        "id": "78ulvXDnRDzG",
        "outputId": "a37fc98d-d57c-427d-89fd-64bcf2726163"
      },
      "execution_count": null,
      "outputs": [
        {
          "output_type": "execute_result",
          "data": {
            "text/plain": [
              "         Date   Time                            Location  \\\n",
              "0  09/17/1908  17:18                 Fort Myer, Virginia   \n",
              "1  09/07/1909    NaN             Juvisy-sur-Orge, France   \n",
              "2  07/12/1912  06:30           Atlantic City, New Jersey   \n",
              "3  08/06/1913    NaN  Victoria, British Columbia, Canada   \n",
              "4  09/09/1913  18:30                  Over the North Sea   \n",
              "\n",
              "                 Operator Flight #          Route                 AC Type  \\\n",
              "0    Military - U.S. Army      NaN  Demonstration        Wright Flyer III   \n",
              "1                     NaN      NaN       Air show          Wright Byplane   \n",
              "2    Military - U.S. Navy      NaN    Test flight               Dirigible   \n",
              "3                 Private      NaN            NaN        Curtiss seaplane   \n",
              "4  Military - German Navy      NaN            NaN  Zeppelin L-1 (airship)   \n",
              "\n",
              "  Registration cn/ln  Aboard  Aboard Passangers  Aboard Crew  Fatalities  \\\n",
              "0          NaN     1     2.0                1.0          1.0         1.0   \n",
              "1          SC1   NaN     1.0                0.0          1.0         1.0   \n",
              "2          NaN   NaN     5.0                0.0          5.0         5.0   \n",
              "3          NaN   NaN     1.0                0.0          1.0         1.0   \n",
              "4          NaN   NaN    20.0                NaN          NaN        14.0   \n",
              "\n",
              "   Fatalities Passangers  Fatalities Crew  Ground  \\\n",
              "0                    1.0              0.0     0.0   \n",
              "1                    0.0              0.0     0.0   \n",
              "2                    0.0              5.0     0.0   \n",
              "3                    0.0              1.0     0.0   \n",
              "4                    NaN              NaN     0.0   \n",
              "\n",
              "                                             Summary  \n",
              "0  During a demonstration flight, a U.S. Army fly...  \n",
              "1  Eugene Lefebvre was the first pilot to ever be...  \n",
              "2  First U.S. dirigible Akron exploded just offsh...  \n",
              "3  The first fatal airplane accident in Canada oc...  \n",
              "4  The airship flew into a thunderstorm and encou...  "
            ],
            "text/html": [
              "\n",
              "  <div id=\"df-82974653-6160-4d86-99a6-0237fad8c981\">\n",
              "    <div class=\"colab-df-container\">\n",
              "      <div>\n",
              "<style scoped>\n",
              "    .dataframe tbody tr th:only-of-type {\n",
              "        vertical-align: middle;\n",
              "    }\n",
              "\n",
              "    .dataframe tbody tr th {\n",
              "        vertical-align: top;\n",
              "    }\n",
              "\n",
              "    .dataframe thead th {\n",
              "        text-align: right;\n",
              "    }\n",
              "</style>\n",
              "<table border=\"1\" class=\"dataframe\">\n",
              "  <thead>\n",
              "    <tr style=\"text-align: right;\">\n",
              "      <th></th>\n",
              "      <th>Date</th>\n",
              "      <th>Time</th>\n",
              "      <th>Location</th>\n",
              "      <th>Operator</th>\n",
              "      <th>Flight #</th>\n",
              "      <th>Route</th>\n",
              "      <th>AC Type</th>\n",
              "      <th>Registration</th>\n",
              "      <th>cn/ln</th>\n",
              "      <th>Aboard</th>\n",
              "      <th>Aboard Passangers</th>\n",
              "      <th>Aboard Crew</th>\n",
              "      <th>Fatalities</th>\n",
              "      <th>Fatalities Passangers</th>\n",
              "      <th>Fatalities Crew</th>\n",
              "      <th>Ground</th>\n",
              "      <th>Summary</th>\n",
              "    </tr>\n",
              "  </thead>\n",
              "  <tbody>\n",
              "    <tr>\n",
              "      <th>0</th>\n",
              "      <td>09/17/1908</td>\n",
              "      <td>17:18</td>\n",
              "      <td>Fort Myer, Virginia</td>\n",
              "      <td>Military - U.S. Army</td>\n",
              "      <td>NaN</td>\n",
              "      <td>Demonstration</td>\n",
              "      <td>Wright Flyer III</td>\n",
              "      <td>NaN</td>\n",
              "      <td>1</td>\n",
              "      <td>2.0</td>\n",
              "      <td>1.0</td>\n",
              "      <td>1.0</td>\n",
              "      <td>1.0</td>\n",
              "      <td>1.0</td>\n",
              "      <td>0.0</td>\n",
              "      <td>0.0</td>\n",
              "      <td>During a demonstration flight, a U.S. Army fly...</td>\n",
              "    </tr>\n",
              "    <tr>\n",
              "      <th>1</th>\n",
              "      <td>09/07/1909</td>\n",
              "      <td>NaN</td>\n",
              "      <td>Juvisy-sur-Orge, France</td>\n",
              "      <td>NaN</td>\n",
              "      <td>NaN</td>\n",
              "      <td>Air show</td>\n",
              "      <td>Wright Byplane</td>\n",
              "      <td>SC1</td>\n",
              "      <td>NaN</td>\n",
              "      <td>1.0</td>\n",
              "      <td>0.0</td>\n",
              "      <td>1.0</td>\n",
              "      <td>1.0</td>\n",
              "      <td>0.0</td>\n",
              "      <td>0.0</td>\n",
              "      <td>0.0</td>\n",
              "      <td>Eugene Lefebvre was the first pilot to ever be...</td>\n",
              "    </tr>\n",
              "    <tr>\n",
              "      <th>2</th>\n",
              "      <td>07/12/1912</td>\n",
              "      <td>06:30</td>\n",
              "      <td>Atlantic City, New Jersey</td>\n",
              "      <td>Military - U.S. Navy</td>\n",
              "      <td>NaN</td>\n",
              "      <td>Test flight</td>\n",
              "      <td>Dirigible</td>\n",
              "      <td>NaN</td>\n",
              "      <td>NaN</td>\n",
              "      <td>5.0</td>\n",
              "      <td>0.0</td>\n",
              "      <td>5.0</td>\n",
              "      <td>5.0</td>\n",
              "      <td>0.0</td>\n",
              "      <td>5.0</td>\n",
              "      <td>0.0</td>\n",
              "      <td>First U.S. dirigible Akron exploded just offsh...</td>\n",
              "    </tr>\n",
              "    <tr>\n",
              "      <th>3</th>\n",
              "      <td>08/06/1913</td>\n",
              "      <td>NaN</td>\n",
              "      <td>Victoria, British Columbia, Canada</td>\n",
              "      <td>Private</td>\n",
              "      <td>NaN</td>\n",
              "      <td>NaN</td>\n",
              "      <td>Curtiss seaplane</td>\n",
              "      <td>NaN</td>\n",
              "      <td>NaN</td>\n",
              "      <td>1.0</td>\n",
              "      <td>0.0</td>\n",
              "      <td>1.0</td>\n",
              "      <td>1.0</td>\n",
              "      <td>0.0</td>\n",
              "      <td>1.0</td>\n",
              "      <td>0.0</td>\n",
              "      <td>The first fatal airplane accident in Canada oc...</td>\n",
              "    </tr>\n",
              "    <tr>\n",
              "      <th>4</th>\n",
              "      <td>09/09/1913</td>\n",
              "      <td>18:30</td>\n",
              "      <td>Over the North Sea</td>\n",
              "      <td>Military - German Navy</td>\n",
              "      <td>NaN</td>\n",
              "      <td>NaN</td>\n",
              "      <td>Zeppelin L-1 (airship)</td>\n",
              "      <td>NaN</td>\n",
              "      <td>NaN</td>\n",
              "      <td>20.0</td>\n",
              "      <td>NaN</td>\n",
              "      <td>NaN</td>\n",
              "      <td>14.0</td>\n",
              "      <td>NaN</td>\n",
              "      <td>NaN</td>\n",
              "      <td>0.0</td>\n",
              "      <td>The airship flew into a thunderstorm and encou...</td>\n",
              "    </tr>\n",
              "  </tbody>\n",
              "</table>\n",
              "</div>\n",
              "      <button class=\"colab-df-convert\" onclick=\"convertToInteractive('df-82974653-6160-4d86-99a6-0237fad8c981')\"\n",
              "              title=\"Convert this dataframe to an interactive table.\"\n",
              "              style=\"display:none;\">\n",
              "        \n",
              "  <svg xmlns=\"http://www.w3.org/2000/svg\" height=\"24px\"viewBox=\"0 0 24 24\"\n",
              "       width=\"24px\">\n",
              "    <path d=\"M0 0h24v24H0V0z\" fill=\"none\"/>\n",
              "    <path d=\"M18.56 5.44l.94 2.06.94-2.06 2.06-.94-2.06-.94-.94-2.06-.94 2.06-2.06.94zm-11 1L8.5 8.5l.94-2.06 2.06-.94-2.06-.94L8.5 2.5l-.94 2.06-2.06.94zm10 10l.94 2.06.94-2.06 2.06-.94-2.06-.94-.94-2.06-.94 2.06-2.06.94z\"/><path d=\"M17.41 7.96l-1.37-1.37c-.4-.4-.92-.59-1.43-.59-.52 0-1.04.2-1.43.59L10.3 9.45l-7.72 7.72c-.78.78-.78 2.05 0 2.83L4 21.41c.39.39.9.59 1.41.59.51 0 1.02-.2 1.41-.59l7.78-7.78 2.81-2.81c.8-.78.8-2.07 0-2.86zM5.41 20L4 18.59l7.72-7.72 1.47 1.35L5.41 20z\"/>\n",
              "  </svg>\n",
              "      </button>\n",
              "      \n",
              "  <style>\n",
              "    .colab-df-container {\n",
              "      display:flex;\n",
              "      flex-wrap:wrap;\n",
              "      gap: 12px;\n",
              "    }\n",
              "\n",
              "    .colab-df-convert {\n",
              "      background-color: #E8F0FE;\n",
              "      border: none;\n",
              "      border-radius: 50%;\n",
              "      cursor: pointer;\n",
              "      display: none;\n",
              "      fill: #1967D2;\n",
              "      height: 32px;\n",
              "      padding: 0 0 0 0;\n",
              "      width: 32px;\n",
              "    }\n",
              "\n",
              "    .colab-df-convert:hover {\n",
              "      background-color: #E2EBFA;\n",
              "      box-shadow: 0px 1px 2px rgba(60, 64, 67, 0.3), 0px 1px 3px 1px rgba(60, 64, 67, 0.15);\n",
              "      fill: #174EA6;\n",
              "    }\n",
              "\n",
              "    [theme=dark] .colab-df-convert {\n",
              "      background-color: #3B4455;\n",
              "      fill: #D2E3FC;\n",
              "    }\n",
              "\n",
              "    [theme=dark] .colab-df-convert:hover {\n",
              "      background-color: #434B5C;\n",
              "      box-shadow: 0px 1px 3px 1px rgba(0, 0, 0, 0.15);\n",
              "      filter: drop-shadow(0px 1px 2px rgba(0, 0, 0, 0.3));\n",
              "      fill: #FFFFFF;\n",
              "    }\n",
              "  </style>\n",
              "\n",
              "      <script>\n",
              "        const buttonEl =\n",
              "          document.querySelector('#df-82974653-6160-4d86-99a6-0237fad8c981 button.colab-df-convert');\n",
              "        buttonEl.style.display =\n",
              "          google.colab.kernel.accessAllowed ? 'block' : 'none';\n",
              "\n",
              "        async function convertToInteractive(key) {\n",
              "          const element = document.querySelector('#df-82974653-6160-4d86-99a6-0237fad8c981');\n",
              "          const dataTable =\n",
              "            await google.colab.kernel.invokeFunction('convertToInteractive',\n",
              "                                                     [key], {});\n",
              "          if (!dataTable) return;\n",
              "\n",
              "          const docLinkHtml = 'Like what you see? Visit the ' +\n",
              "            '<a target=\"_blank\" href=https://colab.research.google.com/notebooks/data_table.ipynb>data table notebook</a>'\n",
              "            + ' to learn more about interactive tables.';\n",
              "          element.innerHTML = '';\n",
              "          dataTable['output_type'] = 'display_data';\n",
              "          await google.colab.output.renderOutput(dataTable, element);\n",
              "          const docLink = document.createElement('div');\n",
              "          docLink.innerHTML = docLinkHtml;\n",
              "          element.appendChild(docLink);\n",
              "        }\n",
              "      </script>\n",
              "    </div>\n",
              "  </div>\n",
              "  "
            ]
          },
          "metadata": {},
          "execution_count": 15
        }
      ]
    },
    {
      "cell_type": "code",
      "source": [
        "full['AC Type']"
      ],
      "metadata": {
        "colab": {
          "base_uri": "https://localhost:8080/"
        },
        "id": "PU-Lb9qG0500",
        "outputId": "db7858c4-c3c1-48de-e56a-d63183fd8547"
      },
      "execution_count": null,
      "outputs": [
        {
          "output_type": "execute_result",
          "data": {
            "text/plain": [
              "0                               Wright Flyer III\n",
              "1                                 Wright Byplane\n",
              "2                                      Dirigible\n",
              "3                               Curtiss seaplane\n",
              "4                         Zeppelin L-1 (airship)\n",
              "                          ...                   \n",
              "4962    Pilatus-Britten Norman BN-2B-27 Islander\n",
              "4963             Canadair CL-600-2B16-Challenger\n",
              "4964                     Sukhoi Superjet-100-95B\n",
              "4965                               Antonov An-32\n",
              "4966                    Beechcraft B300 King Air\n",
              "Name: AC Type, Length: 9934, dtype: object"
            ]
          },
          "metadata": {},
          "execution_count": 16
        }
      ]
    },
    {
      "cell_type": "code",
      "source": [
        "import re\n",
        "full['AC Type'].apply(lambda x : re.sub(\"(.*, )|(\\\\..*)\", \"\", str(x)))"
      ],
      "metadata": {
        "colab": {
          "base_uri": "https://localhost:8080/"
        },
        "id": "wGRjw9rNxFSF",
        "outputId": "366a3eca-c982-4451-90b1-e55b9a64af6c"
      },
      "execution_count": null,
      "outputs": [
        {
          "output_type": "execute_result",
          "data": {
            "text/plain": [
              "0                               Wright Flyer III\n",
              "1                                 Wright Byplane\n",
              "2                                      Dirigible\n",
              "3                               Curtiss seaplane\n",
              "4                         Zeppelin L-1 (airship)\n",
              "                          ...                   \n",
              "4962    Pilatus-Britten Norman BN-2B-27 Islander\n",
              "4963             Canadair CL-600-2B16-Challenger\n",
              "4964                     Sukhoi Superjet-100-95B\n",
              "4965                               Antonov An-32\n",
              "4966                    Beechcraft B300 King Air\n",
              "Name: AC Type, Length: 9934, dtype: object"
            ]
          },
          "metadata": {},
          "execution_count": 17
        }
      ]
    },
    {
      "cell_type": "code",
      "source": [
        "[]"
      ],
      "metadata": {
        "colab": {
          "base_uri": "https://localhost:8080/"
        },
        "id": "GG1yDjQidTPK",
        "outputId": "fe4fe343-8a69-488b-cb48-82a03ccc3d77"
      },
      "execution_count": null,
      "outputs": [
        {
          "output_type": "execute_result",
          "data": {
            "text/plain": [
              "[]"
            ]
          },
          "metadata": {},
          "execution_count": 18
        }
      ]
    }
  ]
}